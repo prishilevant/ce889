{
  "nbformat": 4,
  "nbformat_minor": 0,
  "metadata": {
    "colab": {
      "name": "ce889.ipynb",
      "provenance": [],
      "authorship_tag": "ABX9TyO6+vnM7qyv09nSzskqCpBc",
      "include_colab_link": true
    },
    "kernelspec": {
      "name": "python3",
      "display_name": "Python 3"
    },
    "language_info": {
      "name": "python"
    }
  },
  "cells": [
    {
      "cell_type": "markdown",
      "metadata": {
        "id": "view-in-github",
        "colab_type": "text"
      },
      "source": [
        "<a href=\"https://colab.research.google.com/github/prishilevant/ce889/blob/main/ce889.ipynb\" target=\"_parent\"><img src=\"https://colab.research.google.com/assets/colab-badge.svg\" alt=\"Open In Colab\"/></a>"
      ]
    },
    {
      "cell_type": "code",
      "execution_count": null,
      "metadata": {
        "id": "xEX6rzEnyjah"
      },
      "outputs": [],
      "source": [
        "# Import packages\n",
        "import h5py \n",
        "import matplotlib.pyplot as plt\n",
        "import numpy as np\n",
        "import seaborn as sns"
      ]
    },
    {
      "cell_type": "markdown",
      "source": [
        "Create weights and bias "
      ],
      "metadata": {
        "id": "y5Q0qJuX8ttc"
      }
    },
    {
      "cell_type": "code",
      "source": [
        "def initialize_parameters(layers_dims):\n",
        "    np.random.seed(1)               \n",
        "    parameters = {}\n",
        "    L = len(layers_dims)            \n",
        "\n",
        "    for l in range(1, L):           \n",
        "        parameters[\"W\" + str(l)] = np.random.randn(\n",
        "            layers_dims[l], layers_dims[l - 1]) * 0.01\n",
        "        parameters[\"b\" + str(l)] = np.zeros((layers_dims[l], 1))\n",
        "\n",
        "    \n",
        "    return parameters"
      ],
      "metadata": {
        "id": "9HqzgfYezcle"
      },
      "execution_count": null,
      "outputs": []
    },
    {
      "cell_type": "markdown",
      "source": [
        "Activation functions\n",
        "\n"
      ],
      "metadata": {
        "id": "3ZqJjuIk8yED"
      }
    },
    {
      "cell_type": "code",
      "source": [
        "def sigmoid(Z):\n",
        "    A = 1 / (1 + np.exp(-Z))\n",
        "    return A, Z\n",
        "\n",
        "def tanh(Z):\n",
        "    A = np.tanh(Z)\n",
        "    return A, Z\n",
        "\n",
        "\n",
        "def relu(Z):\n",
        "    A = np.maximum(0, Z)\n",
        "    return A, Z\n",
        "\n",
        "\n",
        "def leaky_relu(Z):\n",
        "    A = np.maximum(0.1 * Z, Z)\n",
        "    return A, Z"
      ],
      "metadata": {
        "id": "Z-n_NuI182Xy"
      },
      "execution_count": null,
      "outputs": []
    },
    {
      "cell_type": "markdown",
      "source": [
        "Forward propagate"
      ],
      "metadata": {
        "id": "iWproE0F9Ka9"
      }
    },
    {
      "cell_type": "code",
      "source": [
        "# Define linear function\n",
        "def linear_function(A_prev, W, b):\n",
        "    Z = np.dot(W, A_prev) + b\n",
        "    linear_function_val = (A_prev, W, b)\n",
        "    return Z, linear_function_val\n",
        "\n",
        "# call different linear function\n",
        "def linear_activation_forward(A_prev, W, b, activation_fn):\n",
        "    assert activation_fn == \"sigmoid\" or activation_fn == \"tanh\" or \\\n",
        "        activation_fn == \"relu\"\n",
        "\n",
        "    if activation_fn == \"sigmoid\":\n",
        "        Z, linear_cache = linear_forward(A_prev, W, b)\n",
        "        A, activation_cache = sigmoid(Z)\n",
        "\n",
        "    elif activation_fn == \"tanh\":\n",
        "        Z, linear_cache = linear_forward(A_prev, W, b)\n",
        "        A, activation_cache = tanh(Z)\n",
        "\n",
        "    elif activation_fn == \"relu\":\n",
        "        Z, linear_cache = linear_forward(A_prev, W, b)\n",
        "        A, activation_cache = relu(Z)\n",
        "\n",
        "    assert A.shape == (W.shape[0], A_prev.shape[1])\n",
        "\n",
        "    cache = (linear_cache, activation_cache)\n",
        "    return A, cache"
      ],
      "metadata": {
        "id": "otpuhrLn9hOL"
      },
      "execution_count": null,
      "outputs": []
    }
  ]
}